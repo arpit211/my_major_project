{
 "cells": [
  {
   "cell_type": "code",
   "execution_count": 1,
   "metadata": {},
   "outputs": [
    {
     "name": "stdout",
     "output_type": "stream",
     "text": [
      "E:\\Anaconda\\python.exe\n"
     ]
    }
   ],
   "source": [
    "import sys\n",
    "print(sys.executable)\n",
    "import wordcloud\n",
    "#!<E:\\Anaconda\\python.exe>/python -m pip install wordcloud\n",
    "#!pip install sklearn\n"
   ]
  },
  {
   "cell_type": "code",
   "execution_count": 2,
   "metadata": {},
   "outputs": [],
   "source": [
    "#!pip install seaborn\n",
    "#!pip install matplotlib"
   ]
  },
  {
   "cell_type": "code",
   "execution_count": 5,
   "metadata": {},
   "outputs": [
    {
     "name": "stderr",
     "output_type": "stream",
     "text": [
      "[nltk_data] Downloading package stopwords to\n",
      "[nltk_data]     C:\\Users\\rahul\\AppData\\Roaming\\nltk_data...\n",
      "[nltk_data]   Package stopwords is already up-to-date!\n",
      "[nltk_data] Downloading package wordnet to\n",
      "[nltk_data]     C:\\Users\\rahul\\AppData\\Roaming\\nltk_data...\n",
      "[nltk_data]   Package wordnet is already up-to-date!\n",
      "[nltk_data] Downloading package punkt to\n",
      "[nltk_data]     C:\\Users\\rahul\\AppData\\Roaming\\nltk_data...\n",
      "[nltk_data]   Package punkt is already up-to-date!\n"
     ]
    }
   ],
   "source": [
    "import numpy as np\n",
    "import matplotlib.pyplot as plt\n",
    "import seaborn as sns\n",
    "import re\n",
    "import nltk\n",
    "from nltk.corpus import stopwords\n",
    "nltk.download('stopwords')\n",
    "from nltk.stem import PorterStemmer\n",
    "from nltk.stem import WordNetLemmatizer\n",
    "nltk.download('wordnet')\n",
    "from nltk.tokenize import word_tokenize\n",
    "from nltk.tokenize import sent_tokenize\n",
    "nltk.download('punkt')\n",
    "\n",
    "from sklearn.feature_extraction.text import CountVectorizer\n",
    "from sklearn.feature_extraction.text import TfidfVectorizer\n",
    "from sklearn.model_selection import train_test_split\n",
    "from sklearn.metrics import accuracy_score\n",
    "from sklearn.metrics import confusion_matrix\n",
    "from sklearn.metrics import classification_report\n",
    "from sklearn.metrics import make_scorer, roc_curve, roc_auc_score\n",
    "from sklearn.metrics import precision_recall_fscore_support as score\n",
    "from sklearn.metrics.pairwise import cosine_similarity\n",
    "from sklearn.multiclass import OneVsRestClassifier\n",
    "from sklearn.linear_model import LogisticRegression\n",
    "from sklearn.svm import SVC, LinearSVC\n",
    "from sklearn.tree import DecisionTreeClassifier\n",
    "from sklearn.ensemble import RandomForestClassifier\n",
    "from sklearn.neighbors import KNeighborsClassifier\n",
    "from sklearn.naive_bayes import GaussianNB,MultinomialNB,BernoulliNB"
   ]
  },
  {
   "cell_type": "code",
   "execution_count": 7,
   "metadata": {},
   "outputs": [
    {
     "data": {
      "text/plain": [
       "'enron bosses in $168m payout eighteen former enron directors have agreed a $168m (£89m) settlement deal in a shareholder lawsuit over the collapse of the energy firm.  leading plaintiff  the university of california  announced the news  adding that 10 of the former directors will pay $13m from their own pockets. the settlement will be put to the courts for approval next week. enron went bankrupt in 2001 after it emerged it had hidden hundreds of millions of dollars in debt.  before its collapse  the firm was the seventh biggest public us company by revenue. its demise sent shockwaves through financial markets and dented investor confidence in corporate america.   the settlement is very significant in holding these outside directors at least partially personally responsible   william lerach  the lawyer leading the class action suit against enron  said.  hopefully  this will help send a message to corporate boardrooms of the importance of directors performing their legal duties   he added. under the terms of the $168m settlement - $155m of which will be covered by insurance - none of the 18 former directors will admit any wrongdoing. the deal is the fourth major settlement negotiated by lawyers who filed a class action on behalf of enron s shareholders almost three years ago. so far  including the latest deal  just under $500m (£378.8m) has been retrieved for investors.  however  the latest deal does not include former enron chief executives ken lay and jeff skilling. both men are facing criminal charges for their alleged misconduct in the run up to the firm s collapse. neither does it cover andrew fastow  who has pleaded guilty to taking part in an illegal conspiracy while he was chief financial officer at the group. enron s shareholders are still seeking damages from a long list of other big name defendants including the financial institutions jp morgan chase  citigroup  merrill lynch and credit suisse first boston. the university of california said the trial in the case is scheduled to begin in october 2006. it joined the lawsuit in december 2001alleging  massive insider trading  and fraud  claiming it had lost $145m on its investments in the company.'"
      ]
     },
     "execution_count": 7,
     "metadata": {},
     "output_type": "execute_result"
    }
   ],
   "source": [
    "import pandas as pd\n",
    "dataset = pd.read_csv(r\"C:\\Users\\rahul\\Desktop\\BBC News Train.csv\")\n",
    "dataset.Text[2]"
   ]
  },
  {
   "cell_type": "code",
   "execution_count": 8,
   "metadata": {},
   "outputs": [
    {
     "data": {
      "text/plain": [
       "(1323, 3)"
      ]
     },
     "execution_count": 8,
     "metadata": {},
     "output_type": "execute_result"
    }
   ],
   "source": [
    "dataset.shape"
   ]
  },
  {
   "cell_type": "code",
   "execution_count": 9,
   "metadata": {},
   "outputs": [
    {
     "name": "stdout",
     "output_type": "stream",
     "text": [
      "<class 'pandas.core.frame.DataFrame'>\n",
      "RangeIndex: 1323 entries, 0 to 1322\n",
      "Data columns (total 3 columns):\n",
      "ArticleId    1323 non-null int64\n",
      "Text         1323 non-null object\n",
      "Category     1323 non-null object\n",
      "dtypes: int64(1), object(2)\n",
      "memory usage: 31.1+ KB\n"
     ]
    }
   ],
   "source": [
    "dataset.info()"
   ]
  },
  {
   "cell_type": "code",
   "execution_count": 10,
   "metadata": {},
   "outputs": [
    {
     "data": {
      "text/plain": [
       "entertainment    273\n",
       "business         269\n",
       "sport            265\n",
       "tech             261\n",
       "politics         255\n",
       "Name: Category, dtype: int64"
      ]
     },
     "execution_count": 10,
     "metadata": {},
     "output_type": "execute_result"
    }
   ],
   "source": [
    "dataset['Category'].value_counts()"
   ]
  },
  {
   "cell_type": "code",
   "execution_count": 11,
   "metadata": {},
   "outputs": [
    {
     "name": "stdout",
     "output_type": "stream",
     "text": [
      "['business' 'tech' 'entertainment' 'sport' 'politics']\n"
     ]
    }
   ],
   "source": [
    "# Associate Category names with numerical index and save it in new column CategoryId\n",
    "target_category = dataset['Category'].unique()\n",
    "print(target_category)"
   ]
  },
  {
   "cell_type": "code",
   "execution_count": 12,
   "metadata": {},
   "outputs": [
    {
     "data": {
      "text/html": [
       "<div>\n",
       "<style scoped>\n",
       "    .dataframe tbody tr th:only-of-type {\n",
       "        vertical-align: middle;\n",
       "    }\n",
       "\n",
       "    .dataframe tbody tr th {\n",
       "        vertical-align: top;\n",
       "    }\n",
       "\n",
       "    .dataframe thead th {\n",
       "        text-align: right;\n",
       "    }\n",
       "</style>\n",
       "<table border=\"1\" class=\"dataframe\">\n",
       "  <thead>\n",
       "    <tr style=\"text-align: right;\">\n",
       "      <th></th>\n",
       "      <th>ArticleId</th>\n",
       "      <th>Text</th>\n",
       "      <th>Category</th>\n",
       "      <th>CategoryId</th>\n",
       "    </tr>\n",
       "  </thead>\n",
       "  <tbody>\n",
       "    <tr>\n",
       "      <th>0</th>\n",
       "      <td>1833</td>\n",
       "      <td>worldcom ex-boss launches defence lawyers defe...</td>\n",
       "      <td>business</td>\n",
       "      <td>0</td>\n",
       "    </tr>\n",
       "    <tr>\n",
       "      <th>1</th>\n",
       "      <td>1976</td>\n",
       "      <td>lifestyle  governs mobile choice  faster  bett...</td>\n",
       "      <td>tech</td>\n",
       "      <td>1</td>\n",
       "    </tr>\n",
       "    <tr>\n",
       "      <th>2</th>\n",
       "      <td>917</td>\n",
       "      <td>enron bosses in $168m payout eighteen former e...</td>\n",
       "      <td>business</td>\n",
       "      <td>0</td>\n",
       "    </tr>\n",
       "    <tr>\n",
       "      <th>3</th>\n",
       "      <td>1797</td>\n",
       "      <td>french honour for director parker british film...</td>\n",
       "      <td>entertainment</td>\n",
       "      <td>2</td>\n",
       "    </tr>\n",
       "    <tr>\n",
       "      <th>4</th>\n",
       "      <td>1866</td>\n",
       "      <td>fockers fuel festive film chart comedy meet th...</td>\n",
       "      <td>entertainment</td>\n",
       "      <td>2</td>\n",
       "    </tr>\n",
       "  </tbody>\n",
       "</table>\n",
       "</div>"
      ],
      "text/plain": [
       "   ArticleId                                               Text  \\\n",
       "0       1833  worldcom ex-boss launches defence lawyers defe...   \n",
       "1       1976  lifestyle  governs mobile choice  faster  bett...   \n",
       "2        917  enron bosses in $168m payout eighteen former e...   \n",
       "3       1797  french honour for director parker british film...   \n",
       "4       1866  fockers fuel festive film chart comedy meet th...   \n",
       "\n",
       "        Category  CategoryId  \n",
       "0       business           0  \n",
       "1           tech           1  \n",
       "2       business           0  \n",
       "3  entertainment           2  \n",
       "4  entertainment           2  "
      ]
     },
     "execution_count": 12,
     "metadata": {},
     "output_type": "execute_result"
    }
   ],
   "source": [
    "dataset['CategoryId'] = dataset['Category'].factorize()[0]\n",
    "dataset.head()"
   ]
  },
  {
   "cell_type": "code",
   "execution_count": 13,
   "metadata": {},
   "outputs": [
    {
     "data": {
      "text/html": [
       "<div>\n",
       "<style scoped>\n",
       "    .dataframe tbody tr th:only-of-type {\n",
       "        vertical-align: middle;\n",
       "    }\n",
       "\n",
       "    .dataframe tbody tr th {\n",
       "        vertical-align: top;\n",
       "    }\n",
       "\n",
       "    .dataframe thead th {\n",
       "        text-align: right;\n",
       "    }\n",
       "</style>\n",
       "<table border=\"1\" class=\"dataframe\">\n",
       "  <thead>\n",
       "    <tr style=\"text-align: right;\">\n",
       "      <th></th>\n",
       "      <th>Category</th>\n",
       "      <th>CategoryId</th>\n",
       "    </tr>\n",
       "  </thead>\n",
       "  <tbody>\n",
       "    <tr>\n",
       "      <th>0</th>\n",
       "      <td>business</td>\n",
       "      <td>0</td>\n",
       "    </tr>\n",
       "    <tr>\n",
       "      <th>1</th>\n",
       "      <td>tech</td>\n",
       "      <td>1</td>\n",
       "    </tr>\n",
       "    <tr>\n",
       "      <th>3</th>\n",
       "      <td>entertainment</td>\n",
       "      <td>2</td>\n",
       "    </tr>\n",
       "    <tr>\n",
       "      <th>8</th>\n",
       "      <td>sport</td>\n",
       "      <td>3</td>\n",
       "    </tr>\n",
       "    <tr>\n",
       "      <th>37</th>\n",
       "      <td>politics</td>\n",
       "      <td>4</td>\n",
       "    </tr>\n",
       "  </tbody>\n",
       "</table>\n",
       "</div>"
      ],
      "text/plain": [
       "         Category  CategoryId\n",
       "0        business           0\n",
       "1            tech           1\n",
       "3   entertainment           2\n",
       "8           sport           3\n",
       "37       politics           4"
      ]
     },
     "execution_count": 13,
     "metadata": {},
     "output_type": "execute_result"
    }
   ],
   "source": [
    "# Create a new pandas dataframe \"category\", which only has unique Categories, also sorting this list in order of CategoryId values\n",
    "category = dataset[['Category', 'CategoryId']].drop_duplicates().sort_values('CategoryId')\n",
    "category"
   ]
  },
  {
   "cell_type": "code",
   "execution_count": 14,
   "metadata": {},
   "outputs": [
    {
     "data": {
      "image/png": "[encoded data removed]",
      "text/plain": [
       "<Figure size 432x288 with 1 Axes>"
      ]
     },
     "metadata": {
      "needs_background": "light"
     },
     "output_type": "display_data"
    }
   ],
   "source": [
    "dataset.groupby('Category').CategoryId.value_counts().plot(kind = \"bar\", color = [\"pink\", \"orange\", \"red\", \"yellow\", \"blue\"])\n",
    "plt.xlabel(\"Category of data\")\n",
    "plt.title(\"Visulaize numbers of Category of data\")\n",
    "plt.show()"
   ]
  },
  {
   "cell_type": "code",
   "execution_count": 15,
   "metadata": {},
   "outputs": [
    {
     "data": {
      "image/png": "[encoded data removed]",
      "text/plain": [
       "<Figure size 360x360 with 1 Axes>"
      ]
     },
     "metadata": {},
     "output_type": "display_data"
    }
   ],
   "source": [
    "fig = plt.figure(figsize = (5,5))\n",
    "colors = [\"skyblue\"]\n",
    "business = dataset[dataset['CategoryId'] == 0 ]\n",
    "tech = dataset[dataset['CategoryId'] == 1 ]\n",
    "politics = dataset[dataset['CategoryId'] == 2]\n",
    "sport = dataset[dataset['CategoryId'] == 3]\n",
    "entertainment = dataset[dataset['CategoryId'] == 4]\n",
    "count = [business['CategoryId'].count(), tech['CategoryId'].count(), politics['CategoryId'].count(), sport['CategoryId'].count(), entertainment['CategoryId'].count()]\n",
    "pie = plt.pie(count, labels = ['business', 'tech', 'politics', 'sport', 'entertainment'],\n",
    "              autopct = \"%1.1f%%\",\n",
    "              shadow = True,\n",
    "              colors = colors,\n",
    "              startangle = 45,\n",
    "              explode = (0.05, 0.05, 0.05, 0.05,0.05))"
   ]
  },
  {
   "cell_type": "code",
   "execution_count": 16,
   "metadata": {},
   "outputs": [
    {
     "ename": "ModuleNotFoundError",
     "evalue": "No module named 'wordcloud'",
     "output_type": "error",
     "traceback": [
      "\u001b[1;31m---------------------------------------------------------------------------\u001b[0m",
      "\u001b[1;31mModuleNotFoundError\u001b[0m                       Traceback (most recent call last)",
      "\u001b[1;32m<ipython-input-16-cfda86dc42a3>\u001b[0m in \u001b[0;36m<module>\u001b[1;34m\u001b[0m\n\u001b[1;32m----> 1\u001b[1;33m \u001b[1;32mfrom\u001b[0m \u001b[0mwordcloud\u001b[0m \u001b[1;32mimport\u001b[0m \u001b[0mWordCloud\u001b[0m\u001b[1;33m\u001b[0m\u001b[1;33m\u001b[0m\u001b[0m\n\u001b[0m\u001b[0;32m      2\u001b[0m \u001b[1;33m\u001b[0m\u001b[0m\n\u001b[0;32m      3\u001b[0m \u001b[0mstop\u001b[0m \u001b[1;33m=\u001b[0m \u001b[0mset\u001b[0m\u001b[1;33m(\u001b[0m\u001b[0mstopwords\u001b[0m\u001b[1;33m.\u001b[0m\u001b[0mwords\u001b[0m\u001b[1;33m(\u001b[0m\u001b[1;34m'english'\u001b[0m\u001b[1;33m)\u001b[0m\u001b[1;33m)\u001b[0m\u001b[1;33m\u001b[0m\u001b[1;33m\u001b[0m\u001b[0m\n\u001b[0;32m      4\u001b[0m \u001b[1;33m\u001b[0m\u001b[0m\n\u001b[0;32m      5\u001b[0m \u001b[0mbusiness\u001b[0m \u001b[1;33m=\u001b[0m \u001b[0mdataset\u001b[0m\u001b[1;33m[\u001b[0m\u001b[0mdataset\u001b[0m\u001b[1;33m[\u001b[0m\u001b[1;34m'CategoryId'\u001b[0m\u001b[1;33m]\u001b[0m \u001b[1;33m==\u001b[0m \u001b[1;36m0\u001b[0m\u001b[1;33m]\u001b[0m\u001b[1;33m\u001b[0m\u001b[1;33m\u001b[0m\u001b[0m\n",
      "\u001b[1;31mModuleNotFoundError\u001b[0m: No module named 'wordcloud'"
     ]
    }
   ],
   "source": [
    "from wordcloud import WordCloud\n",
    "\n",
    "stop = set(stopwords.words('english'))\n",
    "\n",
    "business = dataset[dataset['CategoryId'] == 0]\n",
    "\n",
    "business = business['Text']\n",
    "\n",
    "tech = dataset[dataset['CategoryId'] == 1]\n",
    "\n",
    "tech = tech['Text']\n",
    "\n",
    "politics = dataset[dataset['CategoryId'] == 2]\n",
    "\n",
    "politics = politics['Text']\n",
    "\n",
    "sport = dataset[dataset['CategoryId'] == 3]\n",
    "\n",
    "sport = sport['Text']\n",
    "\n",
    "entertainment = dataset[dataset['CategoryId'] == 4]\n",
    "\n",
    "entertainment = entertainment['Text']\n",
    "\n"
   ]
  },
  {
   "cell_type": "code",
   "execution_count": 17,
   "metadata": {
    "scrolled": true
   },
   "outputs": [
    {
     "data": {
      "text/plain": [
       "0    worldcom ex-boss launches defence lawyers defe...\n",
       "1    lifestyle  governs mobile choice  faster  bett...\n",
       "2    enron bosses in $168m payout eighteen former e...\n",
       "3    french honour for director parker british film...\n",
       "4    fockers fuel festive film chart comedy meet th...\n",
       "5    housewives lift channel 4 ratings the debut of...\n",
       "6    uk coal plunges into deeper loss shares in uk ...\n",
       "7    bp surges ahead on high oil price oil giant bp...\n",
       "8    ireland 21-19 argentina an injury-time dropped...\n",
       "9    wenger signs new deal arsenal manager arsene w...\n",
       "Name: Text, dtype: object"
      ]
     },
     "execution_count": 17,
     "metadata": {},
     "output_type": "execute_result"
    }
   ],
   "source": [
    "text = dataset[\"Text\"]\n",
    "text.head(10)"
   ]
  },
  {
   "cell_type": "code",
   "execution_count": 18,
   "metadata": {},
   "outputs": [
    {
     "data": {
      "text/plain": [
       "0         business\n",
       "1             tech\n",
       "2         business\n",
       "3    entertainment\n",
       "4    entertainment\n",
       "5    entertainment\n",
       "6         business\n",
       "7         business\n",
       "8            sport\n",
       "9            sport\n",
       "Name: Category, dtype: object"
      ]
     },
     "execution_count": 18,
     "metadata": {},
     "output_type": "execute_result"
    }
   ],
   "source": [
    "category = dataset['Category']\n",
    "category.head(10)"
   ]
  },
  {
   "cell_type": "code",
   "execution_count": 19,
   "metadata": {},
   "outputs": [
    {
     "data": {
      "text/plain": [
       "0       worldcom ex-boss launches defence lawyers defe...\n",
       "1       lifestyle  governs mobile choice  faster  bett...\n",
       "2       enron bosses in $168m payout eighteen former e...\n",
       "3       french honour for director parker british film...\n",
       "4       fockers fuel festive film chart comedy meet th...\n",
       "                              ...                        \n",
       "1318    double eviction from big brother model caprice...\n",
       "1319    dj double act revamp chart show dj duo jk and ...\n",
       "1320    weak dollar hits reuters revenues at media gro...\n",
       "1321    apple ipod family expands market apple has exp...\n",
       "1322    santy worm makes unwelcome visit thousands of ...\n",
       "Name: Text, Length: 1323, dtype: object"
      ]
     },
     "execution_count": 19,
     "metadata": {},
     "output_type": "execute_result"
    }
   ],
   "source": [
    "def remove_tags(text):\n",
    "  remove = re.compile(r'')\n",
    "  return re.sub(remove, '', text)\n",
    "dataset['Text'] = dataset['Text'].apply(remove_tags)\n",
    "dataset['Text']"
   ]
  },
  {
   "cell_type": "code",
   "execution_count": 20,
   "metadata": {},
   "outputs": [],
   "source": [
    "#def special_char(text):\n",
    " # reviews = ''\n",
    " #  if x.isalnum():\n",
    "  #    reviews = reviews + x\n",
    "   # else:\n",
    "    #  reviews = reviews + ' '\n",
    "    #return reviews\n",
    "\n",
    "#dataset['Text'] = dataset['Text'].apply(special_char)\n",
    "#dataset['Text']"
   ]
  },
  {
   "cell_type": "code",
   "execution_count": 21,
   "metadata": {},
   "outputs": [],
   "source": [
    "def convert_lower(text):\n",
    "     return text.lower()\n",
    "dataset['Text'] = dataset['Text'].apply(convert_lower)"
   ]
  },
  {
   "cell_type": "code",
   "execution_count": 22,
   "metadata": {},
   "outputs": [
    {
     "data": {
      "text/html": [
       "<div>\n",
       "<style scoped>\n",
       "    .dataframe tbody tr th:only-of-type {\n",
       "        vertical-align: middle;\n",
       "    }\n",
       "\n",
       "    .dataframe tbody tr th {\n",
       "        vertical-align: top;\n",
       "    }\n",
       "\n",
       "    .dataframe thead th {\n",
       "        text-align: right;\n",
       "    }\n",
       "</style>\n",
       "<table border=\"1\" class=\"dataframe\">\n",
       "  <thead>\n",
       "    <tr style=\"text-align: right;\">\n",
       "      <th></th>\n",
       "      <th>ArticleId</th>\n",
       "      <th>Text</th>\n",
       "      <th>Category</th>\n",
       "      <th>CategoryId</th>\n",
       "    </tr>\n",
       "  </thead>\n",
       "  <tbody>\n",
       "    <tr>\n",
       "      <th>0</th>\n",
       "      <td>1833</td>\n",
       "      <td>[worldcom, ex-boss, launches, defence, lawyers...</td>\n",
       "      <td>business</td>\n",
       "      <td>0</td>\n",
       "    </tr>\n",
       "    <tr>\n",
       "      <th>1</th>\n",
       "      <td>1976</td>\n",
       "      <td>[lifestyle, governs, mobile, choice, faster, b...</td>\n",
       "      <td>tech</td>\n",
       "      <td>1</td>\n",
       "    </tr>\n",
       "    <tr>\n",
       "      <th>2</th>\n",
       "      <td>917</td>\n",
       "      <td>[enron, bosses, $, 168m, payout, eighteen, for...</td>\n",
       "      <td>business</td>\n",
       "      <td>0</td>\n",
       "    </tr>\n",
       "    <tr>\n",
       "      <th>3</th>\n",
       "      <td>1797</td>\n",
       "      <td>[french, honour, director, parker, british, fi...</td>\n",
       "      <td>entertainment</td>\n",
       "      <td>2</td>\n",
       "    </tr>\n",
       "    <tr>\n",
       "      <th>4</th>\n",
       "      <td>1866</td>\n",
       "      <td>[fockers, fuel, festive, film, chart, comedy, ...</td>\n",
       "      <td>entertainment</td>\n",
       "      <td>2</td>\n",
       "    </tr>\n",
       "    <tr>\n",
       "      <th>...</th>\n",
       "      <td>...</td>\n",
       "      <td>...</td>\n",
       "      <td>...</td>\n",
       "      <td>...</td>\n",
       "    </tr>\n",
       "    <tr>\n",
       "      <th>1318</th>\n",
       "      <td>857</td>\n",
       "      <td>[double, eviction, big, brother, model, capric...</td>\n",
       "      <td>entertainment</td>\n",
       "      <td>2</td>\n",
       "    </tr>\n",
       "    <tr>\n",
       "      <th>1319</th>\n",
       "      <td>325</td>\n",
       "      <td>[dj, double, act, revamp, chart, show, dj, duo...</td>\n",
       "      <td>entertainment</td>\n",
       "      <td>2</td>\n",
       "    </tr>\n",
       "    <tr>\n",
       "      <th>1320</th>\n",
       "      <td>1590</td>\n",
       "      <td>[weak, dollar, hits, reuters, revenues, media,...</td>\n",
       "      <td>business</td>\n",
       "      <td>0</td>\n",
       "    </tr>\n",
       "    <tr>\n",
       "      <th>1321</th>\n",
       "      <td>1587</td>\n",
       "      <td>[apple, ipod, family, expands, market, apple, ...</td>\n",
       "      <td>tech</td>\n",
       "      <td>1</td>\n",
       "    </tr>\n",
       "    <tr>\n",
       "      <th>1322</th>\n",
       "      <td>538</td>\n",
       "      <td>[santy, worm, makes, unwelcome, visit, thousan...</td>\n",
       "      <td>tech</td>\n",
       "      <td>1</td>\n",
       "    </tr>\n",
       "  </tbody>\n",
       "</table>\n",
       "<p>1323 rows × 4 columns</p>\n",
       "</div>"
      ],
      "text/plain": [
       "      ArticleId                                               Text  \\\n",
       "0          1833  [worldcom, ex-boss, launches, defence, lawyers...   \n",
       "1          1976  [lifestyle, governs, mobile, choice, faster, b...   \n",
       "2           917  [enron, bosses, $, 168m, payout, eighteen, for...   \n",
       "3          1797  [french, honour, director, parker, british, fi...   \n",
       "4          1866  [fockers, fuel, festive, film, chart, comedy, ...   \n",
       "...         ...                                                ...   \n",
       "1318        857  [double, eviction, big, brother, model, capric...   \n",
       "1319        325  [dj, double, act, revamp, chart, show, dj, duo...   \n",
       "1320       1590  [weak, dollar, hits, reuters, revenues, media,...   \n",
       "1321       1587  [apple, ipod, family, expands, market, apple, ...   \n",
       "1322        538  [santy, worm, makes, unwelcome, visit, thousan...   \n",
       "\n",
       "           Category  CategoryId  \n",
       "0          business           0  \n",
       "1              tech           1  \n",
       "2          business           0  \n",
       "3     entertainment           2  \n",
       "4     entertainment           2  \n",
       "...             ...         ...  \n",
       "1318  entertainment           2  \n",
       "1319  entertainment           2  \n",
       "1320       business           0  \n",
       "1321           tech           1  \n",
       "1322           tech           1  \n",
       "\n",
       "[1323 rows x 4 columns]"
      ]
     },
     "execution_count": 22,
     "metadata": {},
     "output_type": "execute_result"
    }
   ],
   "source": [
    "def remove_stopwords(text):\n",
    "  stop_words = set(stopwords.words('english'))\n",
    "  words = word_tokenize(text)\n",
    "  return [x for x in words if x not in stop_words]\n",
    "dataset['Text'] = dataset['Text'].apply(remove_stopwords)\n",
    "dataset"
   ]
  },
  {
   "cell_type": "code",
   "execution_count": 23,
   "metadata": {},
   "outputs": [
    {
     "data": {
      "text/html": [
       "<div>\n",
       "<style scoped>\n",
       "    .dataframe tbody tr th:only-of-type {\n",
       "        vertical-align: middle;\n",
       "    }\n",
       "\n",
       "    .dataframe tbody tr th {\n",
       "        vertical-align: top;\n",
       "    }\n",
       "\n",
       "    .dataframe thead th {\n",
       "        text-align: right;\n",
       "    }\n",
       "</style>\n",
       "<table border=\"1\" class=\"dataframe\">\n",
       "  <thead>\n",
       "    <tr style=\"text-align: right;\">\n",
       "      <th></th>\n",
       "      <th>ArticleId</th>\n",
       "      <th>Text</th>\n",
       "      <th>Category</th>\n",
       "      <th>CategoryId</th>\n",
       "    </tr>\n",
       "  </thead>\n",
       "  <tbody>\n",
       "    <tr>\n",
       "      <th>0</th>\n",
       "      <td>1833</td>\n",
       "      <td>worldcom ex-boss launch defence lawyer defendi...</td>\n",
       "      <td>business</td>\n",
       "      <td>0</td>\n",
       "    </tr>\n",
       "    <tr>\n",
       "      <th>1</th>\n",
       "      <td>1976</td>\n",
       "      <td>lifestyle governs mobile choice faster better ...</td>\n",
       "      <td>tech</td>\n",
       "      <td>1</td>\n",
       "    </tr>\n",
       "    <tr>\n",
       "      <th>2</th>\n",
       "      <td>917</td>\n",
       "      <td>enron boss $ 168m payout eighteen former enron...</td>\n",
       "      <td>business</td>\n",
       "      <td>0</td>\n",
       "    </tr>\n",
       "    <tr>\n",
       "      <th>3</th>\n",
       "      <td>1797</td>\n",
       "      <td>french honour director parker british film dir...</td>\n",
       "      <td>entertainment</td>\n",
       "      <td>2</td>\n",
       "    </tr>\n",
       "    <tr>\n",
       "      <th>4</th>\n",
       "      <td>1866</td>\n",
       "      <td>fockers fuel festive film chart comedy meet fo...</td>\n",
       "      <td>entertainment</td>\n",
       "      <td>2</td>\n",
       "    </tr>\n",
       "    <tr>\n",
       "      <th>...</th>\n",
       "      <td>...</td>\n",
       "      <td>...</td>\n",
       "      <td>...</td>\n",
       "      <td>...</td>\n",
       "    </tr>\n",
       "    <tr>\n",
       "      <th>1318</th>\n",
       "      <td>857</td>\n",
       "      <td>double eviction big brother model caprice holb...</td>\n",
       "      <td>entertainment</td>\n",
       "      <td>2</td>\n",
       "    </tr>\n",
       "    <tr>\n",
       "      <th>1319</th>\n",
       "      <td>325</td>\n",
       "      <td>dj double act revamp chart show dj duo jk joel...</td>\n",
       "      <td>entertainment</td>\n",
       "      <td>2</td>\n",
       "    </tr>\n",
       "    <tr>\n",
       "      <th>1320</th>\n",
       "      <td>1590</td>\n",
       "      <td>weak dollar hit reuters revenue medium group r...</td>\n",
       "      <td>business</td>\n",
       "      <td>0</td>\n",
       "    </tr>\n",
       "    <tr>\n",
       "      <th>1321</th>\n",
       "      <td>1587</td>\n",
       "      <td>apple ipod family expands market apple expande...</td>\n",
       "      <td>tech</td>\n",
       "      <td>1</td>\n",
       "    </tr>\n",
       "    <tr>\n",
       "      <th>1322</th>\n",
       "      <td>538</td>\n",
       "      <td>santy worm make unwelcome visit thousand websi...</td>\n",
       "      <td>tech</td>\n",
       "      <td>1</td>\n",
       "    </tr>\n",
       "  </tbody>\n",
       "</table>\n",
       "<p>1323 rows × 4 columns</p>\n",
       "</div>"
      ],
      "text/plain": [
       "      ArticleId                                               Text  \\\n",
       "0          1833  worldcom ex-boss launch defence lawyer defendi...   \n",
       "1          1976  lifestyle governs mobile choice faster better ...   \n",
       "2           917  enron boss $ 168m payout eighteen former enron...   \n",
       "3          1797  french honour director parker british film dir...   \n",
       "4          1866  fockers fuel festive film chart comedy meet fo...   \n",
       "...         ...                                                ...   \n",
       "1318        857  double eviction big brother model caprice holb...   \n",
       "1319        325  dj double act revamp chart show dj duo jk joel...   \n",
       "1320       1590  weak dollar hit reuters revenue medium group r...   \n",
       "1321       1587  apple ipod family expands market apple expande...   \n",
       "1322        538  santy worm make unwelcome visit thousand websi...   \n",
       "\n",
       "           Category  CategoryId  \n",
       "0          business           0  \n",
       "1              tech           1  \n",
       "2          business           0  \n",
       "3     entertainment           2  \n",
       "4     entertainment           2  \n",
       "...             ...         ...  \n",
       "1318  entertainment           2  \n",
       "1319  entertainment           2  \n",
       "1320       business           0  \n",
       "1321           tech           1  \n",
       "1322           tech           1  \n",
       "\n",
       "[1323 rows x 4 columns]"
      ]
     },
     "execution_count": 23,
     "metadata": {},
     "output_type": "execute_result"
    }
   ],
   "source": [
    "def lemmatize_word(text):\n",
    "  wordnet = WordNetLemmatizer()\n",
    "  return \" \".join([wordnet.lemmatize(word) for word in text])\n",
    "dataset['Text'] = dataset['Text'].apply(lemmatize_word)\n",
    "dataset"
   ]
  },
  {
   "cell_type": "code",
   "execution_count": 24,
   "metadata": {},
   "outputs": [
    {
     "name": "stdout",
     "output_type": "stream",
     "text": [
      "      ArticleId                                               Text  \\\n",
      "0          1833  worldcom ex-boss launch defence lawyer defendi...   \n",
      "1          1976  lifestyle governs mobile choice faster better ...   \n",
      "2           917  enron boss $ 168m payout eighteen former enron...   \n",
      "3          1797  french honour director parker british film dir...   \n",
      "4          1866  fockers fuel festive film chart comedy meet fo...   \n",
      "...         ...                                                ...   \n",
      "1318        857  double eviction big brother model caprice holb...   \n",
      "1319        325  dj double act revamp chart show dj duo jk joel...   \n",
      "1320       1590  weak dollar hit reuters revenue medium group r...   \n",
      "1321       1587  apple ipod family expands market apple expande...   \n",
      "1322        538  santy worm make unwelcome visit thousand websi...   \n",
      "\n",
      "           Category  CategoryId  \n",
      "0          business           0  \n",
      "1              tech           1  \n",
      "2          business           0  \n",
      "3     entertainment           2  \n",
      "4     entertainment           2  \n",
      "...             ...         ...  \n",
      "1318  entertainment           2  \n",
      "1319  entertainment           2  \n",
      "1320       business           0  \n",
      "1321           tech           1  \n",
      "1322           tech           1  \n",
      "\n",
      "[1323 rows x 4 columns]\n"
     ]
    }
   ],
   "source": [
    "print(dataset)"
   ]
  },
  {
   "cell_type": "code",
   "execution_count": 25,
   "metadata": {},
   "outputs": [
    {
     "data": {
      "text/plain": [
       "str"
      ]
     },
     "execution_count": 25,
     "metadata": {},
     "output_type": "execute_result"
    }
   ],
   "source": [
    "x = dataset['Text']\n",
    "y = dataset['CategoryId']\n",
    "type(x[0])"
   ]
  },
  {
   "cell_type": "code",
   "execution_count": 26,
   "metadata": {},
   "outputs": [
    {
     "name": "stdout",
     "output_type": "stream",
     "text": [
      "<class 'pandas.core.series.Series'>\n",
      "X.shape =  (1323, 5000)\n",
      "y.shape =  (1323,)\n"
     ]
    }
   ],
   "source": [
    "from sklearn.feature_extraction.text import CountVectorizer\n",
    "x = np.array(dataset.iloc[:,0].values)\n",
    "y = np.array(dataset.CategoryId.values)\n",
    "cv = CountVectorizer(max_features = 5000)\n",
    "x = cv.fit_transform(dataset.Text).toarray()\n",
    "print(type(dataset.Text))\n",
    "print(\"X.shape = \",x.shape)\n",
    "print(\"y.shape = \",y.shape)"
   ]
  },
  {
   "cell_type": "code",
   "execution_count": 27,
   "metadata": {},
   "outputs": [
    {
     "data": {
      "text/plain": [
       "str"
      ]
     },
     "execution_count": 27,
     "metadata": {},
     "output_type": "execute_result"
    }
   ],
   "source": [
    "def change_text(text):\n",
    "    text = remove_tags(text)\n",
    "    text = convert_lower(text)\n",
    "    text = remove_stopwords(text)\n",
    "    text = lemmatize_word(text)\n",
    "    return text\n",
    "\n",
    "text_out = change_text('covid 19')\n",
    "type(text_out)"
   ]
  },
  {
   "cell_type": "code",
   "execution_count": 28,
   "metadata": {},
   "outputs": [
    {
     "name": "stdout",
     "output_type": "stream",
     "text": [
      "926\n",
      "397\n"
     ]
    }
   ],
   "source": [
    "from sklearn.model_selection import train_test_split\n",
    "x_train, x_test, y_train, y_test = train_test_split(x, y, test_size = 0.3, random_state = 0, shuffle = True)\n",
    "print(len(x_train))\n",
    "print(len(x_test))"
   ]
  },
  {
   "cell_type": "code",
   "execution_count": 29,
   "metadata": {},
   "outputs": [
    {
     "name": "stdout",
     "output_type": "stream",
     "text": [
      "Test Accuracy Score of Basic Random Forest 94.21\n",
      "Precision : 0.9420654911838791\n",
      "Recall : 0.9420654911838791\n"
     ]
    }
   ],
   "source": [
    "classifier =RandomForestClassifier()\n",
    "classifier.fit(x_train,y_train)\n",
    "y_pred = classifier.predict(x_test)\n",
    "# Performance metrics\n",
    "\n",
    "accuracy = round(accuracy_score(y_test, y_pred) * 100, 2)\n",
    "\n",
    "# Get precision, recall, f1 scores\n",
    "\n",
    "precision, recall, f1score, support = score(y_test, y_pred, average='micro')\n",
    "\n",
    "print(f'Test Accuracy Score of Basic Random Forest {accuracy}')\n",
    "\n",
    "print(f'Precision : {precision}')\n",
    "\n",
    "print(f'Recall : {recall}')\n",
    "\n",
    "#print(f'F1-score : {f1score}')\n",
    "\n"
   ]
  },
  {
   "cell_type": "code",
   "execution_count": 30,
   "metadata": {},
   "outputs": [],
   "source": [
    "#model_performance = pd.DataFrame(data=perform_list)\n",
    "#model_performance = model_performance[['Model', 'Test Accuracy', 'Precision', 'Recall', 'F1']]\n",
    "#model_performance"
   ]
  },
  {
   "cell_type": "code",
   "execution_count": 31,
   "metadata": {},
   "outputs": [
    {
     "name": "stdout",
     "output_type": "stream",
     "text": [
      "Enter a Text:\n",
      "[[0.06 0.   0.25 0.61 0.08]]\n"
     ]
    }
   ],
   "source": [
    "#y_pred1 = cv.transform(['Worldwide oil prices at an all time high due to covid'])\n",
    "user = input(\"Enter a Text:\")\n",
    "my_prediction = change_text(user)\n",
    "my_prediction = pd.Series(my_prediction)\n",
    "\n",
    "#my_prediction = my_prediction.ravel()\n",
    "new = cv.transform(my_prediction)\n",
    "\n",
    "yy = classifier.predict_proba(new)\n",
    "\n",
    "#if(yy==0 || yy==1)\n",
    "#print(\"highest chance:Business ,Second Highest:\")\n",
    "print(yy)\n",
    "\n",
    "#list1 = np.array([[\"Business\",\"Tech\",\"Politics\",\"Sports\",\"Entertainment\"]])\n",
    "#list2 = np.concatenate((yy, list1), axis=0)\n",
    "#print(list2)\n",
    "#print(list2.shape)\n",
    "#for i in range(0,5):\n",
    "#    print(list2[0][i] ,\" \", list2[1][i])\n",
    "#business -0\n",
    "#tech-1\n",
    "#politics-2\n",
    "#sport-3\n",
    "#entertainment-4"
   ]
  },
  {
   "cell_type": "markdown",
   "metadata": {},
   "source": [
    "# OUTPUT"
   ]
  },
  {
   "cell_type": "code",
   "execution_count": 32,
   "metadata": {},
   "outputs": [
    {
     "name": "stdout",
     "output_type": "stream",
     "text": [
      "[['0.06' '0.0' '0.25' '0.61' '0.08']\n",
      " ['Business' 'Tech' ' Politics' 'Sports' 'Entertainment']]\n",
      "(2, 5)\n"
     ]
    }
   ],
   "source": [
    "list1 = np.array([[\"Business\",\"Tech\",\" Politics\",\"Sports\",\"Entertainment\"]])\n",
    "list2 = np.concatenate((yy, list1), axis=0)\n",
    "print(list2)\n",
    "print(list2.shape)"
   ]
  },
  {
   "cell_type": "code",
   "execution_count": 33,
   "metadata": {},
   "outputs": [
    {
     "name": "stdout",
     "output_type": "stream",
     "text": [
      "0.06   Business\n",
      "0.0   Tech\n",
      "0.25    Politics\n",
      "0.61   Sports\n",
      "0.08   Entertainment\n"
     ]
    }
   ],
   "source": [
    "for i in range(0,5):\n",
    "    print(list2[0][i] ,\" \", list2[1][i])"
   ]
  },
  {
   "cell_type": "code",
   "execution_count": 34,
   "metadata": {},
   "outputs": [],
   "source": [
    "\n",
    "#listf=['Business','Tech','Politics','Sports','Entertainment']\n",
    "#dat = list(zip(yy,listf))\n",
    "#dat"
   ]
  },
  {
   "cell_type": "code",
   "execution_count": 35,
   "metadata": {},
   "outputs": [],
   "source": [
    "from joblib import dump, load"
   ]
  },
  {
   "cell_type": "code",
   "execution_count": 36,
   "metadata": {},
   "outputs": [
    {
     "data": {
      "text/plain": [
       "['model.joblib']"
      ]
     },
     "execution_count": 36,
     "metadata": {},
     "output_type": "execute_result"
    }
   ],
   "source": [
    "dump(classifier, 'model.joblib')"
   ]
  },
  {
   "cell_type": "code",
   "execution_count": 38,
   "metadata": {},
   "outputs": [],
   "source": [
    "import pickle\n",
    "pickle.dump(classifier,open('model.pkl','wb'))\n",
    "model=pickle.load(open('model.pkl','rb'))\n"
   ]
  },
  {
   "cell_type": "code",
   "execution_count": null,
   "metadata": {},
   "outputs": [],
   "source": []
  }
 ],
 "metadata": {
  "kernelspec": {
   "display_name": "Python 3",
   "language": "python",
   "name": "python3"
  },
  "language_info": {
   "codemirror_mode": {
    "name": "ipython",
    "version": 3
   },
   "file_extension": ".py",
   "mimetype": "text/x-python",
   "name": "python",
   "nbconvert_exporter": "python",
   "pygments_lexer": "ipython3",
   "version": "3.7.3"
  }
 },
 "nbformat": 4,
 "nbformat_minor": 5
}
